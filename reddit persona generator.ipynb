{
  "cells": [
    {
      "cell_type": "code",
      "execution_count": 14,
      "metadata": {
        "colab": {
          "base_uri": "https://localhost:8080/",
          "height": 703
        },
        "id": "df252749",
        "outputId": "1a531ab2-7223-4a98-d41f-025ab82975a9"
      },
      "outputs": [
        {
          "name": "stdout",
          "output_type": "stream",
          "text": [
            "Requirement already satisfied: praw in /usr/local/lib/python3.11/dist-packages (7.8.1)\n",
            "Requirement already satisfied: prawcore<3,>=2.4 in /usr/local/lib/python3.11/dist-packages (from praw) (2.4.0)\n",
            "Requirement already satisfied: update_checker>=0.18 in /usr/local/lib/python3.11/dist-packages (from praw) (0.18.0)\n",
            "Requirement already satisfied: websocket-client>=0.54.0 in /usr/local/lib/python3.11/dist-packages (from praw) (1.8.0)\n",
            "Requirement already satisfied: requests<3.0,>=2.6.0 in /usr/local/lib/python3.11/dist-packages (from prawcore<3,>=2.4->praw) (2.32.3)\n",
            "Requirement already satisfied: charset-normalizer<4,>=2 in /usr/local/lib/python3.11/dist-packages (from requests<3.0,>=2.6.0->prawcore<3,>=2.4->praw) (3.4.2)\n",
            "Requirement already satisfied: idna<4,>=2.5 in /usr/local/lib/python3.11/dist-packages (from requests<3.0,>=2.6.0->prawcore<3,>=2.4->praw) (3.10)\n",
            "Requirement already satisfied: urllib3<3,>=1.21.1 in /usr/local/lib/python3.11/dist-packages (from requests<3.0,>=2.6.0->prawcore<3,>=2.4->praw) (2.4.0)\n",
            "Requirement already satisfied: certifi>=2017.4.17 in /usr/local/lib/python3.11/dist-packages (from requests<3.0,>=2.6.0->prawcore<3,>=2.4->praw) (2025.7.9)\n",
            "Collecting openai==0.28\n",
            "  Downloading openai-0.28.0-py3-none-any.whl.metadata (13 kB)\n",
            "Requirement already satisfied: requests>=2.20 in /usr/local/lib/python3.11/dist-packages (from openai==0.28) (2.32.3)\n",
            "Requirement already satisfied: tqdm in /usr/local/lib/python3.11/dist-packages (from openai==0.28) (4.67.1)\n",
            "Requirement already satisfied: aiohttp in /usr/local/lib/python3.11/dist-packages (from openai==0.28) (3.11.15)\n",
            "Requirement already satisfied: charset-normalizer<4,>=2 in /usr/local/lib/python3.11/dist-packages (from requests>=2.20->openai==0.28) (3.4.2)\n",
            "Requirement already satisfied: idna<4,>=2.5 in /usr/local/lib/python3.11/dist-packages (from requests>=2.20->openai==0.28) (3.10)\n",
            "Requirement already satisfied: urllib3<3,>=1.21.1 in /usr/local/lib/python3.11/dist-packages (from requests>=2.20->openai==0.28) (2.4.0)\n",
            "Requirement already satisfied: certifi>=2017.4.17 in /usr/local/lib/python3.11/dist-packages (from requests>=2.20->openai==0.28) (2025.7.9)\n",
            "Requirement already satisfied: aiohappyeyeballs>=2.3.0 in /usr/local/lib/python3.11/dist-packages (from aiohttp->openai==0.28) (2.6.1)\n",
            "Requirement already satisfied: aiosignal>=1.1.2 in /usr/local/lib/python3.11/dist-packages (from aiohttp->openai==0.28) (1.4.0)\n",
            "Requirement already satisfied: attrs>=17.3.0 in /usr/local/lib/python3.11/dist-packages (from aiohttp->openai==0.28) (25.3.0)\n",
            "Requirement already satisfied: frozenlist>=1.1.1 in /usr/local/lib/python3.11/dist-packages (from aiohttp->openai==0.28) (1.7.0)\n",
            "Requirement already satisfied: multidict<7.0,>=4.5 in /usr/local/lib/python3.11/dist-packages (from aiohttp->openai==0.28) (6.6.3)\n",
            "Requirement already satisfied: propcache>=0.2.0 in /usr/local/lib/python3.11/dist-packages (from aiohttp->openai==0.28) (0.3.2)\n",
            "Requirement already satisfied: yarl<2.0,>=1.17.0 in /usr/local/lib/python3.11/dist-packages (from aiohttp->openai==0.28) (1.20.1)\n",
            "Requirement already satisfied: typing-extensions>=4.2 in /usr/local/lib/python3.11/dist-packages (from aiosignal>=1.1.2->aiohttp->openai==0.28) (4.14.1)\n",
            "Downloading openai-0.28.0-py3-none-any.whl (76 kB)\n",
            "\u001b[2K   \u001b[90m━━━━━━━━━━━━━━━━━━━━━━━━━━━━━━━━━━━━━━━━\u001b[0m \u001b[32m76.5/76.5 kB\u001b[0m \u001b[31m3.2 MB/s\u001b[0m eta \u001b[36m0:00:00\u001b[0m\n",
            "\u001b[?25hInstalling collected packages: openai\n",
            "  Attempting uninstall: openai\n",
            "    Found existing installation: openai 1.94.0\n",
            "    Uninstalling openai-1.94.0:\n",
            "      Successfully uninstalled openai-1.94.0\n",
            "Successfully installed openai-0.28.0\n"
          ]
        },
        {
          "data": {
            "application/vnd.colab-display-data+json": {
              "id": "99ec084293a34560bcf67904aac091c2",
              "pip_warning": {
                "packages": [
                  "openai"
                ]
              }
            }
          },
          "metadata": {},
          "output_type": "display_data"
        }
      ],
      "source": [
        "%pip install praw\n",
        "%pip install openai==0.28\n"
      ]
    },
    {
      "cell_type": "code",
      "execution_count": 1,
      "metadata": {
        "id": "TvvJrM8p2SNF"
      },
      "outputs": [],
      "source": [
        "# Required libraries\n",
        "import re\n",
        "import praw\n",
        "import openai\n",
        "import textwrap\n",
        "import prawcore\n",
        "from IPython.display import display, Markdown"
      ]
    },
    {
      "cell_type": "code",
      "execution_count": null,
      "metadata": {
        "id": "C9mzKHz13_HO"
      },
      "outputs": [],
      "source": [
        "#Credentials of reddit and open ai api\n",
        "REDDIT_CLIENT_ID = '5pLuHrA8wEe-RJJuO1Tnpw'\n",
        "REDDIT_CLIENT_SECRET = 'Urg0pt-AOXOqt0gboZt5B3-ueKIhGQ'\n",
        "REDDIT_USER_AGENT = 'PersonaGenerator/1.0 by Competitive-Candy257'\n",
        "OPENAI_API_KEY = '' # Set your api here"
      ]
    },
    {
      "cell_type": "code",
      "execution_count": null,
      "metadata": {
        "id": "PsxvYvVQ9S4u"
      },
      "outputs": [],
      "source": [
        "def validate_credentials():\n",
        "\n",
        "    \"\"\"API credentials are stored in environment variables\"\"\"\n",
        "    if (REDDIT_CLIENT_ID == 'YOUR_REDDIT_CLIENT_ID' or\n",
        "        REDDIT_CLIENT_SECRET == 'YOUR_REDDIT_CLIENT_SECRET' or\n",
        "        'YOUR_REDDIT_USERNAME' in REDDIT_USER_AGENT):\n",
        "        raise ValueError(\"Please replace with your actual API keys\")\n",
        "\n",
        "    # Initialize APIs, if credentials valid\n",
        "    try:\n",
        "        reddit = praw.Reddit(\n",
        "            client_id=REDDIT_CLIENT_ID,\n",
        "            client_secret=REDDIT_CLIENT_SECRET,\n",
        "            user_agent=REDDIT_USER_AGENT\n",
        "        )\n",
        "        # Test authentication of API\n",
        "        reddit.user.me()\n",
        "        return reddit\n",
        "    except prawcore.exceptions.ResponseException as e:\n",
        "        if e.response.status_code == 401:\n",
        "            raise ValueError(\"Invalid Reddit API credentials\")\n",
        "        raise\n",
        "    except Exception as e:\n",
        "        raise RuntimeError(f\"Reddit API initialization failed: {str(e)}\")\n"
      ]
    },
    {
      "cell_type": "code",
      "execution_count": null,
      "metadata": {
        "colab": {
          "base_uri": "https://localhost:8080/"
        },
        "id": "YR-bGPS89W7Q",
        "outputId": "3e8a65f8-679d-40a4-d129-8eee45399049"
      },
      "outputs": [
        {
          "name": "stdout",
          "output_type": "stream",
          "text": [
            "Reddit API credentials validated successfully\n"
          ]
        }
      ],
      "source": [
        "# Initialize Reddit API with validation\n",
        "try:\n",
        "    reddit = validate_credentials()\n",
        "    print(\"Reddit API validated successfully\")\n",
        "except Exception as e:\n",
        "    print(f\"Credential Error: {str(e)}\")\n",
        "    reddit = None"
      ]
    },
    {
      "cell_type": "code",
      "execution_count": null,
      "metadata": {
        "id": "tjWvpUqw9Z0C"
      },
      "outputs": [],
      "source": [
        "# Initialize OpenAI\n",
        "openai.api_key = OPENAI_API_KEY\n",
        "\n",
        "def validate_reddit_url(url):\n",
        "    \"\"\"Reddit profile URL\"\"\"\n",
        "    pattern = r'https?://www\\.reddit\\.com/user/([^/]+)/?'\n",
        "    match = re.search(pattern, url)\n",
        "    if not match:\n",
        "        raise ValueError(\"Invalid Reddit profile URL format.\")\n",
        "    return match.group(1)\n"
      ]
    },
    {
      "cell_type": "code",
      "execution_count": null,
      "metadata": {
        "id": "4XjvyOvp9drQ"
      },
      "outputs": [],
      "source": [
        "# Scrape Redditor's comments and submissions with error handling\n",
        "def scrape_redditor_content(username):\n",
        "\n",
        "    if not reddit:\n",
        "        raise RuntimeError(\"Reddit API not initialized due to credential issues\")\n",
        "\n",
        "    try:\n",
        "        user = reddit.redditor(username)\n",
        "\n",
        "        comments = []\n",
        "        try:\n",
        "            for comment in user.comments.new(limit=100):\n",
        "                comments.append({\n",
        "                    'type': 'comment',\n",
        "                    'content': comment.body,\n",
        "                    'subreddit': comment.subreddit.display_name,\n",
        "                    'created_utc': comment.created_utc,\n",
        "                    'url': f'https://reddit.com{comment.permalink}',\n",
        "                    'score': comment.score\n",
        "                })\n",
        "        except prawcore.exceptions.Forbidden:\n",
        "            print(f\"Comments are private for u/{username}\")\n",
        "\n",
        "        submissions = []\n",
        "        try:\n",
        "            for submission in user.submissions.new(limit=50):\n",
        "                submissions.append({\n",
        "                    'type': 'submission',\n",
        "                    'title': submission.title,\n",
        "                    'content': submission.selftext,\n",
        "                    'subreddit': submission.subreddit.display_name,\n",
        "                    'created_utc': submission.created_utc,\n",
        "                    'url': f'https://reddit.com{submission.permalink}',\n",
        "                    'score': submission.score\n",
        "                })\n",
        "        except prawcore.exceptions.Forbidden:\n",
        "            print(f\"Submissions are private for u/{username}\")\n",
        "\n",
        "        if not comments and not submissions:\n",
        "            raise ValueError(f\"No public content available for u/{username} or profile doesn't exist\")\n",
        "\n",
        "        return comments + submissions\n",
        "    except prawcore.exceptions.NotFound:\n",
        "        raise ValueError(f\"User u/{username} not found\")\n",
        "    except prawcore.exceptions.ResponseException as e:\n",
        "        if e.response.status_code == 401:\n",
        "            raise RuntimeError(\"Reddit API credentials expired \")\n",
        "        raise RuntimeError(f\"Reddit API error: {str(e)}\")\n",
        "    except Exception as e:\n",
        "        raise RuntimeError(f\"Error scraping data: {str(e)}\")"
      ]
    },
    {
      "cell_type": "code",
      "execution_count": null,
      "metadata": {
        "id": "Vlq2Za7R9l_W"
      },
      "outputs": [],
      "source": [
        "# Generate user persona using GPT-4\n",
        "def generate_persona(content_data):\n",
        "    \n",
        "    if not content_data:\n",
        "        raise ValueError(\"No content available for persona generation\")\n",
        "\n",
        "    content_chunks = []\n",
        "    for idx, item in enumerate(content_data[:30]):\n",
        "        source_ref = f\"[Source {idx+1}]\"\n",
        "        if item['type'] == 'comment':\n",
        "            text = f\"{source_ref} COMMENT in r/{item['subreddit']}: {item['content']}\"\n",
        "        else:\n",
        "            text = f\"{source_ref} POST: {item['title']}\\n{item['content']}\"\n",
        "        content_chunks.append(text)\n",
        "\n",
        "    content_str = \"\\n\\n\".join(content_chunks)[:12000]\n",
        "\n",
        "    system_msg = textwrap.dedent(\"\"\"\n",
        "    We are Creating user personas from Reddit data.\n",
        "    Generate a comprehensive persona in EXACTLY the following format:\n",
        "\n",
        "    # [Name]\n",
        "\n",
        "    **AGE** | [Value]\n",
        "    **OCCUPATION** | [Value]\n",
        "    **STATUS** | [Value]\n",
        "    **LOCATION** | [Value]\n",
        "    **TIER** | [Value]\n",
        "    **ARCHETYPE** | [Value]\n",
        "\n",
        "    ---\n",
        "\n",
        "    ## [4-5 Word Trait Summary]\n",
        "\n",
        "    ### MOTIVATIONS\n",
        "\n",
        "    - **[Main Motivation Category]**\n",
        "      [Sub-motivation 1]\n",
        "      [Sub-motivation 2]\n",
        "      [Sub-motivation 3]\n",
        "\n",
        "    ### PERSONALITY\n",
        "\n",
        "    | [Trait Dimension 1] | [Trait Dimension 2] |\n",
        "    |---------------------|---------------------|\n",
        "    | [Value]             | [Value]             |\n",
        "    | [Value]             | [Value]             |\n",
        "    | [Value]             | [Value]             |\n",
        "    | [Value]             | [Value]             |\n",
        "\n",
        "    **BEHAVIOUR & HABITS**\n",
        "    - [Behavior point 1] [Source X]\n",
        "    - [Behavior point 2] [Source Y]\n",
        "\n",
        "    **GOALS & NEEDS**\n",
        "    - [Goal 1] [Source X]\n",
        "    - [Goal 2] [Source Y]\n",
        "\n",
        "    **FRUSTRATIONS**\n",
        "    - [Frustration 1] [Source X]\n",
        "    - [Frustration 2] [Source Y]\n",
        "\n",
        "    \"[Direct Quote]\" [Source X]\n",
        "\n",
        "    RULES:\n",
        "    1. Use name '______' if unavailable\n",
        "    2. STRUCTURE MUST MATCH EXACTLY\n",
        "    3. Use MBTI dimensions: Introvert/Extrovert, Intuition/Sensing, Feeling/Thinking, Perceiving/Judging\n",
        "    4. Tier must be: Early Adoption, Mainstream, or Late Adoption\n",
        "    5. Archetype must be standard persona type (e.g., The Creator)\n",
        "    6. Motivation categories: CONVENIENCE, HEALTH, SOCIAL, etc.\n",
        "    7. Trait summary = 4-5 adjective phrase (e.g., Practical Appetable Spontaneous Active)\n",
        "    8. Cite sources after EACH point/quote\n",
        "    9. NEVER invent information\n",
        "    \"\"\"\n",
        "    )\n",
        "\n",
        "\n",
        "\n",
        "    try:\n",
        "        response = openai.ChatCompletion.create(\n",
        "            model=\"gpt-4\",\n",
        "            messages=[\n",
        "                {\"role\": \"system\", \"content\": system_msg},\n",
        "                {\"role\": \"user\", \"content\": f\"Redditor content:\\n\\n{content_str}\"}\n",
        "            ],\n",
        "            temperature=0.3,\n",
        "            max_tokens=1500\n",
        "        )\n",
        "        return response.choices[0].message['content']\n",
        "    except Exception as e:\n",
        "        raise Exception(f\"OpenAI API error: {str(e)}\")"
      ]
    },
    {
      "cell_type": "code",
      "execution_count": 25,
      "metadata": {
        "id": "gLKuu8uM94Bg"
      },
      "outputs": [],
      "source": [
        "# Save persona with source references\n",
        "def save_persona(username, persona, content_data):\n",
        "\n",
        "    source_index = \"\\n\\nSOURCE REFERENCES:\\n\"\n",
        "    for idx, item in enumerate(content_data[:30]):\n",
        "        source_index += f\"[Source {idx+1}] {item['url']}\\n\"\n",
        "\n",
        "    filename = f\"{username}_persona.txt\"\n",
        "    with open(filename, 'w', encoding='utf-8') as f:\n",
        "        f.write(persona)\n",
        "        f.write(source_index)\n",
        "\n",
        "    return filename"
      ]
    },
    {
      "cell_type": "code",
      "execution_count": 26,
      "metadata": {
        "id": "COYJh2P79771"
      },
      "outputs": [],
      "source": [
        "# Main function to generate persona from Reddit URL\n",
        "def generate_persona_from_reddit(url):\n",
        "\n",
        "    if not reddit:\n",
        "        return \"reddit API are invalid\"\n",
        "\n",
        "    try:\n",
        "        # Validate and scrape\n",
        "        username = validate_reddit_url(url)\n",
        "        print(f\"Scraping data for u/{username}.\")\n",
        "        content_data = scrape_redditor_content(username)\n",
        "\n",
        "        # persona Generate\n",
        "        print(\"Generating persona with GPT-4.\")\n",
        "        persona = generate_persona(content_data)\n",
        "\n",
        "        # output save\n",
        "        filename = save_persona(username, persona, content_data)\n",
        "        print(f\"Persona saved to {filename}.\")\n",
        "\n",
        "        # Display in Jupyter\n",
        "        display(Markdown(persona))\n",
        "        print(f\"\\nFull persona with sources saved to {filename}\")\n",
        "\n",
        "        return persona\n",
        "\n",
        "    except Exception as e:\n",
        "        error_msg = f\"Error: {str(e)}\"\n",
        "        print(error_msg)\n",
        "        return error_msg"
      ]
    },
    {
      "cell_type": "code",
      "execution_count": 27,
      "metadata": {
        "colab": {
          "base_uri": "https://localhost:8080/",
          "height": 950
        },
        "id": "HvOuUSem-ETO",
        "outputId": "bc7d7dd8-c0dd-4778-c451-4f7f48faf3d0"
      },
      "outputs": [
        {
          "name": "stderr",
          "output_type": "stream",
          "text": [
            "WARNING:praw:It appears that you are using PRAW in an asynchronous environment.\n",
            "It is strongly recommended to use Async PRAW: https://asyncpraw.readthedocs.io.\n",
            "See https://praw.readthedocs.io/en/latest/getting_started/multiple_instances.html#discord-bots-and-asynchronous-environments for more info.\n",
            "\n",
            "WARNING:praw:It appears that you are using PRAW in an asynchronous environment.\n",
            "It is strongly recommended to use Async PRAW: https://asyncpraw.readthedocs.io.\n",
            "See https://praw.readthedocs.io/en/latest/getting_started/multiple_instances.html#discord-bots-and-asynchronous-environments for more info.\n",
            "\n"
          ]
        },
        {
          "name": "stdout",
          "output_type": "stream",
          "text": [
            "Scraping data for u/Hungry-Move-6603.\n",
            "Generating persona with GPT-4.\n",
            "Persona saved to Hungry-Move-6603_persona.txt.\n"
          ]
        },
        {
          "data": {
            "text/markdown": [
              "# ______\n",
              "\n",
              "**AGE** | 25-35\n",
              "**OCCUPATION** | Business Owner\n",
              "**STATUS** | Single\n",
              "**LOCATION** | Lucknow, India\n",
              "**TIER** | Early Adoption\n",
              "**ARCHETYPE** | The Explorer\n",
              "\n",
              "---\n",
              "\n",
              "## Health Conscious, Socially Aware, Observant\n",
              "\n",
              "### MOTIVATIONS\n",
              "\n",
              "- **CONVENIENCE**\n",
              "  Prefers quick and easy meals\n",
              "  Seeks efficient solutions to problems\n",
              "  Values practicality in daily life\n",
              "\n",
              "- **SOCIAL**\n",
              "  Engages in community discussions\n",
              "  Observes and comments on societal issues\n",
              "  Expresses opinions on public matters\n",
              "\n",
              "### PERSONALITY\n",
              "\n",
              "| Introvert/Extrovert | Intuition/Sensing |\n",
              "|---------------------|---------------------|\n",
              "| Introvert             | Sensing             |\n",
              "| Prefers online interactions | Observant of surroundings |\n",
              "| Enjoys solitary activities like reading | Practical and realistic |\n",
              "\n",
              "**BEHAVIOUR & HABITS**\n",
              "- Frequently comments on societal and local issues [Source 1,2,3,4,6,7,8,9,14]\n",
              "- Shows interest in healthy and quick meals [Source 5,10]\n",
              "\n",
              "**GOALS & NEEDS**\n",
              "- Seeks to maintain a healthy lifestyle [Source 5,10]\n",
              "- Desires productive activities and social engagement [Source 12,13]\n",
              "\n",
              "**FRUSTRATIONS**\n",
              "- Frustrated with corruption and societal issues [Source 2,3,9]\n",
              "- Displeased with the quality of food options available [Source 10]\n",
              "\n",
              "\"Never seen anything of this sort in capital city of India. So yes I did not expect 🤪\" [Source 8]"
            ],
            "text/plain": [
              "<IPython.core.display.Markdown object>"
            ]
          },
          "metadata": {},
          "output_type": "display_data"
        },
        {
          "name": "stdout",
          "output_type": "stream",
          "text": [
            "\n",
            "Full persona with sources saved to Hungry-Move-6603_persona.txt\n"
          ]
        },
        {
          "data": {
            "application/vnd.google.colaboratory.intrinsic+json": {
              "type": "string"
            },
            "text/plain": [
              "'# ______\\n\\n**AGE** | 25-35\\n**OCCUPATION** | Business Owner\\n**STATUS** | Single\\n**LOCATION** | Lucknow, India\\n**TIER** | Early Adoption\\n**ARCHETYPE** | The Explorer\\n\\n---\\n\\n## Health Conscious, Socially Aware, Observant\\n\\n### MOTIVATIONS\\n\\n- **CONVENIENCE**\\n  Prefers quick and easy meals\\n  Seeks efficient solutions to problems\\n  Values practicality in daily life\\n\\n- **SOCIAL**\\n  Engages in community discussions\\n  Observes and comments on societal issues\\n  Expresses opinions on public matters\\n\\n### PERSONALITY\\n\\n| Introvert/Extrovert | Intuition/Sensing |\\n|---------------------|---------------------|\\n| Introvert             | Sensing             |\\n| Prefers online interactions | Observant of surroundings |\\n| Enjoys solitary activities like reading | Practical and realistic |\\n\\n**BEHAVIOUR & HABITS**\\n- Frequently comments on societal and local issues [Source 1,2,3,4,6,7,8,9,14]\\n- Shows interest in healthy and quick meals [Source 5,10]\\n\\n**GOALS & NEEDS**\\n- Seeks to maintain a healthy lifestyle [Source 5,10]\\n- Desires productive activities and social engagement [Source 12,13]\\n\\n**FRUSTRATIONS**\\n- Frustrated with corruption and societal issues [Source 2,3,9]\\n- Displeased with the quality of food options available [Source 10]\\n\\n\"Never seen anything of this sort in capital city of India. So yes I did not expect 🤪\" [Source 8]'"
            ]
          },
          "execution_count": 27,
          "metadata": {},
          "output_type": "execute_result"
        }
      ],
      "source": [
        "generate_persona_from_reddit(\"https://www.reddit.com/user/Hungry-Move-6603/\")"
      ]
    },
    {
      "cell_type": "code",
      "execution_count": 28,
      "metadata": {
        "colab": {
          "base_uri": "https://localhost:8080/",
          "height": 975
        },
        "id": "TptrKQ5--QGJ",
        "outputId": "0ddee4c3-83e6-462f-8ede-b3b5a8d5a7c4"
      },
      "outputs": [
        {
          "name": "stderr",
          "output_type": "stream",
          "text": [
            "WARNING:praw:It appears that you are using PRAW in an asynchronous environment.\n",
            "It is strongly recommended to use Async PRAW: https://asyncpraw.readthedocs.io.\n",
            "See https://praw.readthedocs.io/en/latest/getting_started/multiple_instances.html#discord-bots-and-asynchronous-environments for more info.\n",
            "\n"
          ]
        },
        {
          "name": "stdout",
          "output_type": "stream",
          "text": [
            "Scraping data for u/kojied.\n"
          ]
        },
        {
          "name": "stderr",
          "output_type": "stream",
          "text": [
            "WARNING:praw:It appears that you are using PRAW in an asynchronous environment.\n",
            "It is strongly recommended to use Async PRAW: https://asyncpraw.readthedocs.io.\n",
            "See https://praw.readthedocs.io/en/latest/getting_started/multiple_instances.html#discord-bots-and-asynchronous-environments for more info.\n",
            "\n"
          ]
        },
        {
          "name": "stdout",
          "output_type": "stream",
          "text": [
            "Generating persona with GPT-4.\n",
            "Persona saved to kojied_persona.txt.\n"
          ]
        },
        {
          "data": {
            "text/markdown": [
              "# ______\n",
              "\n",
              "**AGE** | 30-35\n",
              "**OCCUPATION** | Game Developer\n",
              "**STATUS** | Single\n",
              "**LOCATION** | New York City, USA\n",
              "**TIER** | Early Adoption\n",
              "**ARCHETYPE** | The Strategist\n",
              "\n",
              "---\n",
              "\n",
              "## Strategic, Tech-Savvy, Gaming Enthusiast\n",
              "\n",
              "### MOTIVATIONS\n",
              "\n",
              "- **CONVENIENCE**\n",
              "  Efficient gaming strategies\n",
              "  Utilizing technology for convenience\n",
              "  Streamlining processes\n",
              "\n",
              "### PERSONALITY\n",
              "\n",
              "| Introvert/Extrovert | Intuition/Sensing |\n",
              "|---------------------|---------------------|\n",
              "| Introvert             | Intuition             |\n",
              "| Analytical            | Detail-oriented     |\n",
              "| Reflective            | Observant            |\n",
              "| Independent          | Innovative           |\n",
              "\n",
              "**BEHAVIOUR & HABITS**\n",
              "- Frequently engages in gaming discussions, particularly strategy games like ManorLords and Civ5 [Source 1, 2, 4, 6, 7, 8, 9, 10, 20, 24, 25, 29]\n",
              "- Shows interest in technology and AI, particularly in the context of gaming and digital art [Source 3, 18, 19, 21, 26]\n",
              "\n",
              "**GOALS & NEEDS**\n",
              "- Seeks to optimize gaming strategies for efficiency and success [Source 1, 7, 10, 20, 24, 29]\n",
              "- Desires to learn and implement new technology for personal and professional growth [Source 3, 18, 19, 21]\n",
              "\n",
              "**FRUSTRATIONS**\n",
              "- Disappointed with the lack of late game content in some games [Source 4]\n",
              "- Frustrated with the decline of interest and innovation in the NFT space [Source 12]\n",
              "\n",
              "\"Millenials have less kids, so they have more time and money to spend on themselves. Millenials are also getting married less and later in life, meaning we allocate more effort on self care\" [Source 13]"
            ],
            "text/plain": [
              "<IPython.core.display.Markdown object>"
            ]
          },
          "metadata": {},
          "output_type": "display_data"
        },
        {
          "name": "stdout",
          "output_type": "stream",
          "text": [
            "\n",
            "Full persona with sources saved to kojied_persona.txt\n"
          ]
        },
        {
          "data": {
            "application/vnd.google.colaboratory.intrinsic+json": {
              "type": "string"
            },
            "text/plain": [
              "'# ______\\n\\n**AGE** | 30-35\\n**OCCUPATION** | Game Developer\\n**STATUS** | Single\\n**LOCATION** | New York City, USA\\n**TIER** | Early Adoption\\n**ARCHETYPE** | The Strategist\\n\\n---\\n\\n## Strategic, Tech-Savvy, Gaming Enthusiast\\n\\n### MOTIVATIONS\\n\\n- **CONVENIENCE**\\n  Efficient gaming strategies\\n  Utilizing technology for convenience\\n  Streamlining processes\\n\\n### PERSONALITY\\n\\n| Introvert/Extrovert | Intuition/Sensing |\\n|---------------------|---------------------|\\n| Introvert             | Intuition             |\\n| Analytical            | Detail-oriented     |\\n| Reflective            | Observant            |\\n| Independent          | Innovative           |\\n\\n**BEHAVIOUR & HABITS**\\n- Frequently engages in gaming discussions, particularly strategy games like ManorLords and Civ5 [Source 1, 2, 4, 6, 7, 8, 9, 10, 20, 24, 25, 29]\\n- Shows interest in technology and AI, particularly in the context of gaming and digital art [Source 3, 18, 19, 21, 26]\\n\\n**GOALS & NEEDS**\\n- Seeks to optimize gaming strategies for efficiency and success [Source 1, 7, 10, 20, 24, 29]\\n- Desires to learn and implement new technology for personal and professional growth [Source 3, 18, 19, 21]\\n\\n**FRUSTRATIONS**\\n- Disappointed with the lack of late game content in some games [Source 4]\\n- Frustrated with the decline of interest and innovation in the NFT space [Source 12]\\n\\n\"Millenials have less kids, so they have more time and money to spend on themselves. Millenials are also getting married less and later in life, meaning we allocate more effort on self care\" [Source 13]'"
            ]
          },
          "execution_count": 28,
          "metadata": {},
          "output_type": "execute_result"
        }
      ],
      "source": [
        "generate_persona_from_reddit(\"https://www.reddit.com/user/kojied/\")"
      ]
    },
    {
      "cell_type": "code",
      "execution_count": null,
      "metadata": {
        "id": "oG5J6e0-BEhq"
      },
      "outputs": [],
      "source": []
    }
  ],
  "metadata": {
    "colab": {
      "provenance": []
    },
    "kernelspec": {
      "display_name": "Python 3",
      "name": "python3"
    },
    "language_info": {
      "name": "python"
    }
  },
  "nbformat": 4,
  "nbformat_minor": 0
}
